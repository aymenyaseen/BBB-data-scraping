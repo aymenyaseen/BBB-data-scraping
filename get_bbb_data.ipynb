{
 "cells": [
  {
   "cell_type": "code",
   "execution_count": null,
   "metadata": {
    "collapsed": false
   },
   "outputs": [],
   "source": [
    "from requests_html import HTMLSession\n",
    "\n",
    "session = HTMLSession()\n",
    "\n",
    "# store the bbb search parameters\n",
    "myParams = {'find_text': 'Home+Builders', \n",
    "            'find_loc': 'Memphis%2C+TN', \n",
    "            'find_id': '847_2000-3400', \n",
    "            'find_entity': '10078-000', \n",
    "            'find_type': 'Category', \n",
    "            'find_latlng': '35.114179%2C-89.949410',\n",
    "            'page': '1'\n",
    "           }\n",
    "\n",
    "# read data from the bbb search url\n",
    "r = session.get('https://www.bbb.org/en/us/search', params=myParams)"
   ]
  },
  {
   "cell_type": "code",
   "execution_count": null,
   "metadata": {
    "collapsed": false
   },
   "outputs": [],
   "source": [
    "# print the methods available for the request\n",
    "print(dir(r))"
   ]
  },
  {
   "cell_type": "code",
   "execution_count": null,
   "metadata": {
    "collapsed": false
   },
   "outputs": [],
   "source": [
    "# print the request url\n",
    "print(r.url)"
   ]
  },
  {
   "cell_type": "code",
   "execution_count": null,
   "metadata": {
    "collapsed": false
   },
   "outputs": [],
   "source": [
    "# print the html text\n",
    "print(r.text)"
   ]
  },
  {
   "cell_type": "code",
   "execution_count": null,
   "metadata": {
    "collapsed": false
   },
   "outputs": [],
   "source": [
    "# Select an Element with a CSS Selector\n",
    "r.html.find('#about', first=True)"
   ]
  },
  {
   "cell_type": "code",
   "execution_count": null,
   "metadata": {
    "collapsed": false
   },
   "outputs": [],
   "source": [
    "<div class=\"search-result__content\">\n",
    "            <h3 class=\"search-result__business-name\"><a href=\"https://bbbpromos.org/cr?b=81740&amp;p=920&amp;ch=0543&amp;c=49035&amp;h=403d29971a4fdffac070318e8480cade&amp;l=US&amp;tz=-4.0&amp;sh=988.0&amp;sw=1223.0&amp;ad.trans.id=iwchp6evg64f&amp;o=https%3A%2F%2Fwww.bbb.org&amp;cps=cmVmVXJs*aHR0cHM6Ly93d3cuYmJiLm9yZy9lbi91cy9zZWFyY2g_ZmluZF90ZXh0PUhvbWUrQnVpbGRlcnMmZmluZF9sb2M9TWVtcGhpcyUyQytUTiZmaW5kX2lkPTg0N18yMDAwLTM0MDAmZmluZF9lbnRpdHk9MTAwNzgtMDAwJmZpbmRfdHlwZT1DYXRlZ29yeSZmaW5kX2xhdGxuZz0zNS4xMTQxNzklMkMtODkuOTQ5NDEwJnBhZ2U9MQ~dXJp*L2VuL3VzL3NlYXJjaA~c3RhdGVGdWxs*dGVubmVzc2Vl~Y2l0eVN0YXRl*bWVtcGhpcy10bg~Y291bnR5U3RhdGU*c2hlbGJ5LXRu~Y291bnR5*c2hlbGJ5~Y2l0eQ*bWVtcGhpcw~dG9icw*MTAwNzgtMDAw~YmJiVXJs*aHR0cHM6Ly93d3cuYmJiLm9yZy9lbi91cy9sb2NhbC1iYmIvYmJiLW9mLXRoZS1taWQtc291dGg~c3RhdGU*dG4~bmF0aW9uYWw*ZmFsc2U~c2VhcmNoVGV4dA*dG9ic2VhcmNo~Y291bnRyeQ*Mg~cG9zdGFsQ29kZQ*MzgxMDE~Y3VsdHVyZUluZm8*ZW4tdXM~c2VhcmNoTG9jYXRpb24*bWVtcGhpcywgdG4~b3JnVHlwZQ*~Y2xlYW5TZWFyY2hUZXh0*aG9tZWJ1aWxkZXJz&amp;UUID=749352f0-6abf-11e8-97f1-ac162daada30&amp;t=1528429873248&amp;u=https://www.bbb.org/memphis/business-reviews/home-builders/dave-moore-companies-in-collierville-tn-44019185\" style=\"color:#3f8ea6;text-decoration: none;\">Dave Moore Companies</a></h3>\n",
    "            <a href=\"tel:(901) 870-7372\" class=\"visible-xs-block search-result__phone\">(901) 870-7372</a>\n",
    "            <p class=\"visible-sm-block visible-md-block visible-lg-block search-result__phone\">(901) 870-7372</p>\n",
    "            <address class=\"search-result__address\">1016 W Poplar Ave Ste 106-204(former), Collierville, TN 38017-3196</address>\n",
    "        </div>"
   ]
  },
  {
   "cell_type": "code",
   "execution_count": null,
   "metadata": {
    "collapsed": true
   },
   "outputs": [],
   "source": []
  }
 ],
 "metadata": {
  "kernelspec": {
   "display_name": "Python 3",
   "language": "python",
   "name": "python3"
  },
  "language_info": {
   "codemirror_mode": {
    "name": "ipython",
    "version": 3
   },
   "file_extension": ".py",
   "mimetype": "text/x-python",
   "name": "python",
   "nbconvert_exporter": "python",
   "pygments_lexer": "ipython3",
   "version": "3.5.3"
  }
 },
 "nbformat": 4,
 "nbformat_minor": 0
}
